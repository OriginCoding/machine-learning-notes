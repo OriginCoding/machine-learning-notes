{
 "cells": [
  {
   "cell_type": "code",
   "execution_count": 1,
   "metadata": {},
   "outputs": [
    {
     "name": "stdout",
     "output_type": "stream",
     "text": [
      "tensor([1, 2, 3])\n",
      "tensor([4, 5, 6], dtype=torch.int32)\n"
     ]
    }
   ],
   "source": [
    "import torch\n",
    "import numpy as np\n",
    "np.set_printoptions(precision=3)\n",
    "a = [1, 2, 3]\n",
    "b = np.array([4, 5, 6], dtype=np.int32)\n",
    "t_a = torch.tensor(a)\n",
    "t_b = torch.from_numpy(b)\n",
    "print(t_a)\n",
    "print(t_b)"
   ]
  },
  {
   "cell_type": "code",
   "execution_count": 2,
   "metadata": {},
   "outputs": [
    {
     "name": "stdout",
     "output_type": "stream",
     "text": [
      "tensor([[1., 1., 1.],\n",
      "        [1., 1., 1.]])\n"
     ]
    }
   ],
   "source": [
    "t_ones = torch.ones(2, 3)\n",
    "t_ones.shape\n",
    "torch.Size([2, 3])\n",
    "print(t_ones)"
   ]
  },
  {
   "cell_type": "code",
   "execution_count": 7,
   "metadata": {},
   "outputs": [
    {
     "name": "stdout",
     "output_type": "stream",
     "text": [
      "tensor([[0.8787, 0.7457, 0.0492],\n",
      "        [0.1908, 0.6680, 0.2632]])\n"
     ]
    }
   ],
   "source": [
    "rand_tensor = torch.rand(2,3)\n",
    "print(rand_tensor)"
   ]
  },
  {
   "cell_type": "code",
   "execution_count": 8,
   "metadata": {},
   "outputs": [
    {
     "name": "stdout",
     "output_type": "stream",
     "text": [
      "torch.int64\n"
     ]
    }
   ],
   "source": [
    "t_a_new = t_a.to(torch.int64)\n",
    "print(t_a_new.dtype)"
   ]
  },
  {
   "cell_type": "code",
   "execution_count": 12,
   "metadata": {},
   "outputs": [
    {
     "name": "stdout",
     "output_type": "stream",
     "text": [
      "torch.Size([3, 5])  -->  torch.Size([3, 5])\n",
      "tensor([[0.9193, 0.6040, 0.0386, 0.4449, 0.0943],\n",
      "        [0.8005, 0.4842, 0.5312, 0.6836, 0.9397],\n",
      "        [0.4836, 0.6417, 0.8707, 0.7922, 0.8438]])\n"
     ]
    }
   ],
   "source": [
    "t = torch.rand(3, 5)\n",
    "\n",
    "t_tr = torch.transpose(t, 1, 1)\n",
    "print(t.shape, ' --> ', t_tr.shape)\n",
    "print(t_tr)"
   ]
  },
  {
   "cell_type": "code",
   "execution_count": 16,
   "metadata": {},
   "outputs": [
    {
     "name": "stdout",
     "output_type": "stream",
     "text": [
      "tensor([[8.3402, 5.4673, 5.2755, 8.1476, 6.2002],\n",
      "        [6.1380, 7.5034, 8.7468, 7.9163, 7.3904],\n",
      "        [5.4035, 8.2628, 5.0407, 8.6002, 6.1803]])\n"
     ]
    }
   ],
   "source": [
    "\n",
    "lower_bound = 5\n",
    "upper_bound = 9\n",
    "x = torch.rand(3, 5) * (upper_bound - lower_bound) + lower_bound\n",
    "\n",
    "print(x)"
   ]
  },
  {
   "cell_type": "code",
   "execution_count": 19,
   "metadata": {},
   "outputs": [
    {
     "name": "stdout",
     "output_type": "stream",
     "text": [
      "torch.Size([5, 6])\n"
     ]
    }
   ],
   "source": [
    "t = torch.zeros(30)\n",
    "\n",
    "t_reshape = t.reshape(5, 6)\n",
    "\n",
    "print(t_reshape.shape)"
   ]
  },
  {
   "cell_type": "code",
   "execution_count": 21,
   "metadata": {},
   "outputs": [
    {
     "name": "stdout",
     "output_type": "stream",
     "text": [
      "torch.Size([3, 4, 5, 1])\n"
     ]
    }
   ],
   "source": [
    "t = torch.randn(3, 4, 1, 5, 1)\n",
    "t_sqz = torch.squeeze(t, 2)\n",
    "print(t_sqz.shape)\n"
   ]
  },
  {
   "cell_type": "code",
   "execution_count": 52,
   "metadata": {},
   "outputs": [
    {
     "name": "stdout",
     "output_type": "stream",
     "text": [
      "tensor([[0.7576, 0.2793],\n",
      "        [0.4031, 0.7347],\n",
      "        [0.0293, 0.7999],\n",
      "        [0.3971, 0.7544],\n",
      "        [0.5695, 0.4388]]) .....\n",
      " tensor([[ 0.8590,  0.7056],\n",
      "        [-0.3406, -1.2720],\n",
      "        [-1.1948,  0.0250],\n",
      "        [-0.7627,  1.3969],\n",
      "        [-0.3245,  0.2879]])\n"
     ]
    }
   ],
   "source": [
    "\n",
    "torch.manual_seed(1)\n",
    "\n",
    "t1 = torch.rand(5, 2)\n",
    "t2 = torch.normal(mean=0, std=1, size=(5, 2))\n",
    "print(t1,\".....\\n\", t2)\n",
    "\n"
   ]
  },
  {
   "cell_type": "code",
   "execution_count": 48,
   "metadata": {},
   "outputs": [
    {
     "data": {
      "image/png": "[encoded data removed]",
      "text/plain": [
       "<Figure size 1000x500 with 2 Axes>"
      ]
     },
     "metadata": {},
     "output_type": "display_data"
    }
   ],
   "source": [
    "import torch\n",
    "import matplotlib.pyplot as plt\n",
    "\n",
    "# Create tensors with normal and uniform distributions\n",
    "torch.manual_seed(123)  # Set random seed for reproducibility\n",
    "normal_tensor = torch.randn(10000)  # Tensor with values from a standard normal distribution\n",
    "uniform_tensor = torch.rand(10000)  # Tensor with values from a uniform distribution between 0 and 1\n",
    "\n",
    "# Plot the histograms of the tensors\n",
    "plt.figure(figsize=(10, 5))\n",
    "plt.subplot(1, 2, 1)\n",
    "plt.hist(normal_tensor, bins=30, color='blue', alpha=0.7)\n",
    "plt.title('Normal Distribution')\n",
    "plt.xlabel('Values')\n",
    "plt.ylabel('Frequency')\n",
    "\n",
    "plt.subplot(1, 2, 2)\n",
    "plt.hist(uniform_tensor, bins=30, color='green', alpha=0.7)\n",
    "plt.title('Uniform Distribution')\n",
    "plt.xlabel('Values')\n",
    "plt.ylabel('Frequency')\n",
    "\n",
    "plt.tight_layout()\n",
    "plt.show()\n"
   ]
  },
  {
   "cell_type": "code",
   "execution_count": 54,
   "metadata": {},
   "outputs": [
    {
     "name": "stdout",
     "output_type": "stream",
     "text": [
      "tensor([[ 0.6508,  0.1971],\n",
      "        [-0.1373, -0.9345],\n",
      "        [-0.0350,  0.0200],\n",
      "        [-0.3029,  1.0538],\n",
      "        [-0.1848,  0.1263]])\n"
     ]
    }
   ],
   "source": [
    "t3 = torch.multiply(t1, t2)\n",
    "print(t3)"
   ]
  },
  {
   "cell_type": "code",
   "execution_count": 56,
   "metadata": {},
   "outputs": [
    {
     "name": "stdout",
     "output_type": "stream",
     "text": [
      "tensor([0.4313, 0.6014])\n"
     ]
    }
   ],
   "source": [
    "t4 = torch.mean(t1, axis=0)\n",
    "print(t4)\n"
   ]
  },
  {
   "cell_type": "code",
   "execution_count": 58,
   "metadata": {},
   "outputs": [
    {
     "name": "stdout",
     "output_type": "stream",
     "text": [
      "tensor([[ 0.8479, -0.6133, -0.8982, -0.1877, -0.1655],\n",
      "        [ 0.8646, -1.0718, -0.4632,  0.7189,  0.0807],\n",
      "        [ 0.5895, -1.0274, -0.0150,  1.0950,  0.2208],\n",
      "        [ 0.8734, -1.0948, -0.4556,  0.7509,  0.0883],\n",
      "        [ 0.7988, -0.7521, -0.6695,  0.1786, -0.0585]])\n"
     ]
    }
   ],
   "source": [
    "t5 = torch.matmul(t1, torch.transpose(t2, 0, 1))\n",
    "print(t5)"
   ]
  },
  {
   "cell_type": "code",
   "execution_count": 63,
   "metadata": {},
   "outputs": [
    {
     "data": {
      "text/plain": [
       "torch.Size([2, 5])"
      ]
     },
     "execution_count": 63,
     "metadata": {},
     "output_type": "execute_result"
    }
   ],
   "source": [
    "t1_tr = torch.transpose(t1, 0, 1)\n",
    "t1_tr.shape"
   ]
  },
  {
   "cell_type": "code",
   "execution_count": 64,
   "metadata": {},
   "outputs": [
    {
     "name": "stdout",
     "output_type": "stream",
     "text": [
      "tensor([0.8075, 0.8380, 0.8004, 0.8525, 0.7189])\n"
     ]
    }
   ],
   "source": [
    "norm_t1 = torch.linalg.norm(t1, ord=2, dim=1)\n",
    "print(norm_t1)\n"
   ]
  },
  {
   "attachments": {},
   "cell_type": "markdown",
   "metadata": {},
   "source": [
    "Split, stack, and concatenate tensors"
   ]
  },
  {
   "cell_type": "code",
   "execution_count": 66,
   "metadata": {},
   "outputs": [
    {
     "name": "stdout",
     "output_type": "stream",
     "text": [
      "tensor([0.7576, 0.2793, 0.4031, 0.7347, 0.0293, 0.7999])\n"
     ]
    },
    {
     "data": {
      "text/plain": [
       "[array([0.758, 0.279], dtype=float32),\n",
       " array([0.403, 0.735], dtype=float32),\n",
       " array([0.029, 0.8  ], dtype=float32)]"
      ]
     },
     "execution_count": 66,
     "metadata": {},
     "output_type": "execute_result"
    }
   ],
   "source": [
    "torch.manual_seed(1)\n",
    "t = torch.rand(6)\n",
    "print(t)\n",
    "t_splits = torch.chunk(t, 3)\n",
    "[item.numpy() for item in t_splits]"
   ]
  },
  {
   "cell_type": "code",
   "execution_count": 70,
   "metadata": {},
   "outputs": [
    {
     "name": "stdout",
     "output_type": "stream",
     "text": [
      "tensor([0.7576, 0.2793, 0.4031, 0.7347, 0.0293])\n"
     ]
    },
    {
     "data": {
      "text/plain": [
       "[array([0.758, 0.279, 0.403], dtype=float32),\n",
       " array([0.735, 0.029], dtype=float32)]"
      ]
     },
     "execution_count": 70,
     "metadata": {},
     "output_type": "execute_result"
    }
   ],
   "source": [
    "torch.manual_seed(1)\n",
    "t = torch.rand(5)\n",
    "print(t)\n",
    "\n",
    "t_splits = torch.split(t, split_size_or_sections=[3, 2])\n",
    "[item.numpy() for item in t_splits]"
   ]
  },
  {
   "cell_type": "code",
   "execution_count": 84,
   "metadata": {},
   "outputs": [
    {
     "name": "stdout",
     "output_type": "stream",
     "text": [
      "tensor([1., 1., 1., 0., 0., 0.])\n"
     ]
    }
   ],
   "source": [
    "A = torch.ones(3)\n",
    "B = torch.zeros(3)\n",
    "C = torch.cat([A, B], axis=-1)\n",
    "print(C)"
   ]
  },
  {
   "cell_type": "code",
   "execution_count": 119,
   "metadata": {},
   "outputs": [
    {
     "data": {
      "text/plain": [
       "tensor([1., 1., 1., 0., 0., 0.])"
      ]
     },
     "execution_count": 119,
     "metadata": {},
     "output_type": "execute_result"
    }
   ],
   "source": [
    "A = torch.ones(3)\n",
    "# A = A.numpy()\n",
    "#A = A.reshape(3,1)\n",
    "\n",
    "B = torch.zeros(3)\n",
    "# B = B.numpy()\n",
    "#B = B.reshape(3,1)\n",
    "#B.reshape(3,)\n",
    "\n",
    "S = torch.cat([A, B], axis= -1)\n",
    "#S = torch.row(S)\n",
    "S"
   ]
  },
  {
   "cell_type": "code",
   "execution_count": 123,
   "metadata": {},
   "outputs": [
    {
     "data": {
      "text/plain": [
       "-1"
      ]
     },
     "execution_count": 123,
     "metadata": {},
     "output_type": "execute_result"
    }
   ],
   "source": [
    "torch.get_device(A)"
   ]
  },
  {
   "attachments": {},
   "cell_type": "markdown",
   "metadata": {},
   "source": [
    "DataLoader"
   ]
  },
  {
   "cell_type": "code",
   "execution_count": 124,
   "metadata": {},
   "outputs": [],
   "source": [
    "from torch.utils.data import DataLoader\n",
    "t = torch.arange(6, dtype=torch.float32)\n",
    "data_loader = DataLoader(t)"
   ]
  },
  {
   "cell_type": "code",
   "execution_count": 125,
   "metadata": {},
   "outputs": [
    {
     "name": "stdout",
     "output_type": "stream",
     "text": [
      "tensor([0.])\n",
      "tensor([1.])\n",
      "tensor([2.])\n",
      "tensor([3.])\n",
      "tensor([4.])\n",
      "tensor([5.])\n"
     ]
    }
   ],
   "source": [
    "for item in data_loader:\n",
    "    print(item)"
   ]
  },
  {
   "cell_type": "code",
   "execution_count": 126,
   "metadata": {},
   "outputs": [
    {
     "name": "stdout",
     "output_type": "stream",
     "text": [
      "batch 1: tensor([0., 1., 2.])\n",
      "batch 2: tensor([3., 4., 5.])\n"
     ]
    }
   ],
   "source": [
    "data_loader = DataLoader(t, batch_size=3, drop_last=False)\n",
    "for i, batch in enumerate(data_loader, 1):\n",
    "    print(f'batch {i}:', batch)\n"
   ]
  },
  {
   "cell_type": "code",
   "execution_count": 127,
   "metadata": {},
   "outputs": [],
   "source": [
    "torch.manual_seed(1)\n",
    "t_x = torch.rand([4, 3], dtype=torch.float32)\n",
    "t_y = torch.arange(4)"
   ]
  },
  {
   "cell_type": "code",
   "execution_count": 128,
   "metadata": {},
   "outputs": [],
   "source": [
    "from torch.utils.data import Dataset\n",
    "\n",
    "class JointDataset(Dataset):\n",
    "    def __init__(self, x, y):\n",
    "        self.x = x\n",
    "        self.y = y\n",
    "    \n",
    "    def __len__(self):\n",
    "        return len(self.x)\n",
    "    \n",
    "    def __getitem__(self, idx):\n",
    "        return self.x[idx], self.y[idx]\n",
    "    \n",
    "    def __getitem__(self, idx):\n",
    "        return self.x[idx], self.y[idx]"
   ]
  },
  {
   "cell_type": "code",
   "execution_count": 130,
   "metadata": {},
   "outputs": [
    {
     "name": "stdout",
     "output_type": "stream",
     "text": [
      "  x:  tensor([0.7576, 0.2793, 0.4031])   y:  tensor(0)\n",
      "  x:  tensor([0.7347, 0.0293, 0.7999])   y:  tensor(1)\n",
      "  x:  tensor([0.3971, 0.7544, 0.5695])   y:  tensor(2)\n",
      "  x:  tensor([0.4388, 0.6387, 0.5247])   y:  tensor(3)\n"
     ]
    }
   ],
   "source": [
    "torch.manual_seed(1)\n",
    "\n",
    "t_x = torch.rand([4, 3], dtype=torch.float32)\n",
    "t_y = torch.arange(4)\n",
    "joint_dataset = JointDataset(t_x, t_y)\n",
    "\n",
    "# Or use TensorDataset directly\n",
    "from torch.utils.data import TensorDataset\n",
    "joint_dataset = TensorDataset(t_x, t_y)\n",
    "\n",
    "for example in joint_dataset:\n",
    "    print('  x: ', example[0], \n",
    "          '  y: ', example[1])"
   ]
  },
  {
   "cell_type": "code",
   "execution_count": 131,
   "metadata": {},
   "outputs": [
    {
     "name": "stdout",
     "output_type": "stream",
     "text": [
      "batch 1: x: tensor([[0.3971, 0.7544, 0.5695],\n",
      "        [0.7576, 0.2793, 0.4031]]) \n",
      "         y: tensor([2, 0])\n",
      "batch 2: x: tensor([[0.7347, 0.0293, 0.7999],\n",
      "        [0.4388, 0.6387, 0.5247]]) \n",
      "         y: tensor([1, 3])\n",
      "epoch 1\n",
      "batch 1: x: tensor([[0.7576, 0.2793, 0.4031],\n",
      "        [0.3971, 0.7544, 0.5695]]) \n",
      "         y: tensor([0, 2])\n",
      "batch 2: x: tensor([[0.7347, 0.0293, 0.7999],\n",
      "        [0.4388, 0.6387, 0.5247]]) \n",
      "         y: tensor([1, 3])\n",
      "epoch 2\n",
      "batch 1: x: tensor([[0.4388, 0.6387, 0.5247],\n",
      "        [0.3971, 0.7544, 0.5695]]) \n",
      "         y: tensor([3, 2])\n",
      "batch 2: x: tensor([[0.7576, 0.2793, 0.4031],\n",
      "        [0.7347, 0.0293, 0.7999]]) \n",
      "         y: tensor([0, 1])\n"
     ]
    }
   ],
   "source": [
    "torch.manual_seed(1)\n",
    "data_loader = DataLoader(dataset=joint_dataset, batch_size=2, shuffle=True)\n",
    "\n",
    "for i, batch in enumerate(data_loader, 1):\n",
    "        print(f'batch {i}:', 'x:', batch[0], \n",
    "              '\\n         y:', batch[1])\n",
    "        \n",
    "for epoch in range(2):\n",
    "    print(f'epoch {epoch+1}')\n",
    "    for i, batch in enumerate(data_loader, 1):\n",
    "        print(f'batch {i}:', 'x:', batch[0], \n",
    "              '\\n         y:', batch[1])"
   ]
  }
 ],
 "metadata": {
  "kernelspec": {
   "display_name": "ml_book",
   "language": "python",
   "name": "python3"
  },
  "language_info": {
   "codemirror_mode": {
    "name": "ipython",
    "version": 3
   },
   "file_extension": ".py",
   "mimetype": "text/x-python",
   "name": "python",
   "nbconvert_exporter": "python",
   "pygments_lexer": "ipython3",
   "version": "3.11.4"
  },
  "orig_nbformat": 4
 },
 "nbformat": 4,
 "nbformat_minor": 2
}
