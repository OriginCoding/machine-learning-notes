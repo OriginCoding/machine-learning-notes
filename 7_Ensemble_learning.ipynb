{
 "cells": [
  {
   "attachments": {},
   "cell_type": "markdown",
   "metadata": {},
   "source": [
    "Ensemble Error"
   ]
  },
  {
   "cell_type": "code",
   "execution_count": 3,
   "metadata": {},
   "outputs": [
    {
     "name": "stdout",
     "output_type": "stream",
     "text": [
      "6\n"
     ]
    }
   ],
   "source": [
    "import math\n",
    "from scipy.special import comb\n",
    "n_classifier = 11\n",
    "k_start = int(math.ceil(n_classifier / 2.))\n",
    "print(k_start)"
   ]
  },
  {
   "cell_type": "code",
   "execution_count": 4,
   "metadata": {},
   "outputs": [],
   "source": [
    "error = 0.25\n",
    "probs = [comb(n_classifier, k) *\n",
    "    error**k *\n",
    "    (1-error)**(n_classifier - k)\n",
    "    for k in range(k_start, n_classifier + 1)]"
   ]
  },
  {
   "cell_type": "code",
   "execution_count": 6,
   "metadata": {},
   "outputs": [
    {
     "data": {
      "text/plain": [
       "0.03432750701904297"
      ]
     },
     "execution_count": 6,
     "metadata": {},
     "output_type": "execute_result"
    }
   ],
   "source": [
    "sum(probs)"
   ]
  },
  {
   "cell_type": "code",
   "execution_count": 22,
   "metadata": {},
   "outputs": [
    {
     "data": {
      "text/plain": [
       "1"
      ]
     },
     "execution_count": 22,
     "metadata": {},
     "output_type": "execute_result"
    }
   ],
   "source": [
    "import numpy as np\n",
    "x = np.bincount([0,0,1,1,1,2,2])\n",
    "y = np.argmax(x)\n",
    "y"
   ]
  },
  {
   "attachments": {},
   "cell_type": "markdown",
   "metadata": {},
   "source": [
    "Weighted majority vote"
   ]
  },
  {
   "cell_type": "code",
   "execution_count": 23,
   "metadata": {},
   "outputs": [
    {
     "data": {
      "text/plain": [
       "array([0.58, 0.42])"
      ]
     },
     "execution_count": 23,
     "metadata": {},
     "output_type": "execute_result"
    }
   ],
   "source": [
    "ex = np.array([[0.9, 0.1],\n",
    "    [0.8, 0.2],\n",
    "    [0.4, 0.6]])\n",
    "p = np.average(ex, axis=0, weights=[0.2, 0.2, 0.6])\n",
    "p"
   ]
  },
  {
   "attachments": {},
   "cell_type": "markdown",
   "metadata": {},
   "source": [
    "Implementing Majority Vote Classifier in Python"
   ]
  },
  {
   "cell_type": "code",
   "execution_count": 32,
   "metadata": {},
   "outputs": [],
   "source": [
    "from sklearn.base import BaseEstimator\n",
    "from sklearn.base import ClassifierMixin\n",
    "from sklearn.preprocessing import LabelEncoder\n",
    "from sklearn.base import clone\n",
    "from sklearn.pipeline import _name_estimators\n",
    "import numpy as np\n",
    "import operator\n",
    "\n",
    "class MajorityVoteClassifier(BaseEstimator, ClassifierMixin):\n",
    "    def __init__(self, classifiers, vote='classlabel', weights = None):\n",
    "\n",
    "        self.classifiers = classifiers\n",
    "        self.named_classifiers = {\n",
    "            key: value for key, value in _name_estimators(classifiers)\n",
    "        }\n",
    "        self.vote = vote\n",
    "        self.weights = weights\n",
    "    \n",
    "    def fit(self, X, y):\n",
    "        if self.vote not in ('probability', 'classlabel'):\n",
    "            raise ValueError(f\"vote must be 'probability'\"\n",
    "                             f\"or 'classlabel'\"\n",
    "                             f\"; got (vote = {self.vote})\")\n",
    "        \n",
    "        if self.weights and len(self.weights) != len(self.classifiers):\n",
    "            raise ValueError(f'Number of classifiers and weights must be equal'\n",
    "                             f' got {len(self.weights)} weights,'\n",
    "                             f' {len(self.classifiers)} classifiers')\n",
    "        self.lablenc_ = LabelEncoder()\n",
    "        self.lablenc_.fit(y)\n",
    "        self.classes_ = self.lablenc_.classes_\n",
    "        self.classifiers_ = []\n",
    "        for clf in self.classifiers:\n",
    "            fitted_clf = clone(clf).fit(X, self.lablenc_.transform(y))\n",
    "            self.classifiers_.append(fitted_clf)\n",
    "        return self\n",
    "    \n",
    "    def predict(self, X):\n",
    "        if self.vote == 'probability':\n",
    "            maj_vote = np.argmax(self.predict_proba(X), axis = 1)\n",
    "        else:\n",
    "            predictions = np.asarray([\n",
    "                clf.predict(X) for clf in self.classifiers_\n",
    "                ]).T\n",
    "            maj_vote = np.apply_along_axis(\n",
    "                lambda x: np.argmax(np.bincount(x, weights = self.weights)),axis = 1, arr = predictions\n",
    "            )\n",
    "        maj_vote = self.lablenc_.inverse_transform(maj_vote)\n",
    "        return maj_vote\n",
    "    \n",
    "    def predict_proba(self, X):\n",
    "        probas = np.asarray([clf.predict_proba(X) for clf in self.classifiers_])\n",
    "        avg_proba = np.average(probas, axis = 0,weights = self.weights)\n",
    "        return avg_proba\n",
    "    \n",
    "    def get_params(self, deep=True):\n",
    "        if not deep:\n",
    "            return super().get_params(deep = False)\n",
    "        else:\n",
    "            out = self.named_classifiers.copy()\n",
    "            for name, step in self.named_classifiers.items():\n",
    "                for key , value in step.get_params(\n",
    "                    deep=True).items():\n",
    "                    out[f'{name}__{key}'] = value\n",
    "            return out"
   ]
  },
  {
   "cell_type": "code",
   "execution_count": 33,
   "metadata": {},
   "outputs": [],
   "source": [
    "from sklearn import datasets\n",
    "from sklearn.model_selection import train_test_split\n",
    "from sklearn.preprocessing import StandardScaler\n",
    "from sklearn.preprocessing import LabelEncoder\n",
    "iris = datasets.load_iris()\n",
    "X, y = iris.data[50:, [1, 2]], iris.target[50:]\n",
    "le = LabelEncoder()\n",
    "y = le.fit_transform(y)"
   ]
  },
  {
   "cell_type": "code",
   "execution_count": 34,
   "metadata": {},
   "outputs": [],
   "source": [
    "X_train, X_test, y_train, y_test =\\\n",
    "    train_test_split(X, y,\n",
    "    test_size=0.5,\n",
    "    random_state=1,\n",
    "    stratify=y)"
   ]
  },
  {
   "cell_type": "code",
   "execution_count": 35,
   "metadata": {},
   "outputs": [
    {
     "name": "stdout",
     "output_type": "stream",
     "text": [
      "10-fold cross validation:\n",
      "\n",
      "ROC AUC: 0.92 (+/- 0.15) [Logistic regression]\n"
     ]
    },
    {
     "name": "stdout",
     "output_type": "stream",
     "text": [
      "ROC AUC: 0.87 (+/- 0.18) [Decision tree]\n",
      "ROC AUC: 0.85 (+/- 0.13) [KNN]\n"
     ]
    }
   ],
   "source": [
    "from sklearn.model_selection import cross_val_score\n",
    "from sklearn.linear_model import LogisticRegression\n",
    "from sklearn.tree import DecisionTreeClassifier\n",
    "from sklearn.neighbors import KNeighborsClassifier\n",
    "from sklearn.pipeline import Pipeline\n",
    "import numpy as np\n",
    "clf1 = LogisticRegression(penalty='l2',\n",
    "    C=0.001,\n",
    "    solver='lbfgs',\n",
    "    random_state=1)\n",
    "clf2 = DecisionTreeClassifier(max_depth=1,\n",
    "    criterion='entropy',\n",
    "    random_state=0)\n",
    "clf3 = KNeighborsClassifier(n_neighbors=1,\n",
    "    p=2,\n",
    "    metric='minkowski')\n",
    "pipe1 = Pipeline([['sc', StandardScaler()],\n",
    "    ['clf', clf1]])\n",
    "pipe3 = Pipeline([['sc', StandardScaler()],\n",
    "    ['clf', clf3]])\n",
    "clf_labels = ['Logistic regression', 'Decision tree', 'KNN']\n",
    "print('10-fold cross validation:\\n')\n",
    "for clf, label in zip([pipe1, clf2, pipe3], clf_labels):\n",
    "    scores = cross_val_score(estimator=clf,\n",
    "    X=X_train,\n",
    "    y=y_train,\n",
    "    cv=10,\n",
    "    scoring='roc_auc')\n",
    "    print(f'ROC AUC: {scores.mean():.2f} '\n",
    "    f'(+/- {scores.std():.2f}) [{label}]')\n"
   ]
  },
  {
   "cell_type": "code",
   "execution_count": 36,
   "metadata": {},
   "outputs": [
    {
     "name": "stdout",
     "output_type": "stream",
     "text": [
      "ROC AUC: 0.92 (+/- 0.15) [Logistic regression]\n",
      "ROC AUC: 0.87 (+/- 0.18) [Decision tree]\n",
      "ROC AUC: 0.85 (+/- 0.13) [KNN]\n",
      "ROC AUC: 0.98 (+/- 0.05) [Majority voting]\n"
     ]
    }
   ],
   "source": [
    "mv_clf = MajorityVoteClassifier(\n",
    "    classifiers=[pipe1, clf2, pipe3]\n",
    "    )\n",
    "clf_labels += ['Majority voting']\n",
    "all_clf = [pipe1, clf2, pipe3, mv_clf]\n",
    "for clf, label in zip(all_clf, clf_labels):\n",
    "    scores = cross_val_score(estimator=clf,\n",
    "    X=X_train,\n",
    "    y=y_train,\n",
    "    cv=10,\n",
    "    scoring='roc_auc')\n",
    "    print(f'ROC AUC: {scores.mean():.2f} '\n",
    "    f'(+/- {scores.std():.2f}) [{label}]')"
   ]
  },
  {
   "cell_type": "code",
   "execution_count": 37,
   "metadata": {},
   "outputs": [],
   "source": [
    "from sklearn.tree import DecisionTreeClassifier\n",
    "from sklearn.ensemble import VotingClassifier\n",
    "from sklearn.linear_model import LogisticRegression\n",
    "from sklearn.neighbors import KNeighborsClassifier\n",
    "from sklearn.svm import SVC\n",
    "import matplotlib.pyplot as plt \n",
    "from sklearn.pipeline import Pipeline\n",
    "from sklearn.model_selection import cross_val_score\n",
    "from sklearn.preprocessing import StandardScaler\n",
    "import numpy as np"
   ]
  },
  {
   "cell_type": "code",
   "execution_count": 38,
   "metadata": {},
   "outputs": [],
   "source": [
    "clf1 = LogisticRegression(penalty='l2',solver='lbfgs',C = 0.001, random_state=1)\n",
    "clf2 = DecisionTreeClassifier(max_depth=1,criterion='entropy',random_state=1)\n",
    "clf3 = KNeighborsClassifier(n_neighbors=1,p = 2,metric='minkowski')\n",
    "#clf4 = SVC(probability=True)\n",
    "\n",
    "pipe1 = Pipeline([('sc',StandardScaler()), ('clf',clf1)])\n",
    "pipe2 = Pipeline([('sc',StandardScaler()), ('clf',clf2)])\n",
    "pipe3 = Pipeline([('sc',StandardScaler()), ('clf',clf3)])\n",
    "#pipe4 = Pipeline([('sc',StandardScaler()), ('clf',clf4)])\n",
    "\n",
    "clf_labels = ['Logistic Regression', 'Decision tree classifier', 'KNN','Majority Voting']"
   ]
  },
  {
   "cell_type": "code",
   "execution_count": 39,
   "metadata": {},
   "outputs": [
    {
     "name": "stdout",
     "output_type": "stream",
     "text": [
      "ROC AUC: 0.92 (+/- 0.15) [Logistic Regression]\n",
      "ROC AUC: 0.87 (+/- 0.18) [Decision tree classifier]\n",
      "ROC AUC: 0.85 (+/- 0.13) [KNN]\n"
     ]
    }
   ],
   "source": [
    "for clf, label in zip([pipe1, pipe2, pipe3], clf_labels):\n",
    "    scores = cross_val_score(estimator=clf,\n",
    "    X=X_train,\n",
    "    y=y_train,\n",
    "    cv=10,\n",
    "    scoring='roc_auc')\n",
    "    print(f'ROC AUC: {scores.mean():.2f} 'f'(+/- {scores.std():.2f}) [{label}]')"
   ]
  },
  {
   "cell_type": "code",
   "execution_count": 48,
   "metadata": {},
   "outputs": [
    {
     "name": "stdout",
     "output_type": "stream",
     "text": [
      "ROC AUC: 0.98(+/- 0.05) [Majority voting]\n"
     ]
    }
   ],
   "source": [
    "\n",
    "\n",
    "voting_clf = VotingClassifier(\n",
    "estimators=[('lr', pipe1), ('dt', pipe2),('knn',pipe3)],voting='soft')\n",
    "voting_clf.fit(X_train, y_train)\n",
    "# voting_clf = MajorityVoteClassifier(\n",
    "#     classifiers=[pipe1, pipe2, pipe3]\n",
    "#     )\n",
    "all_clf = [pipe1, pipe2, pipe3, voting_clf]\n",
    "\n",
    "\n",
    "\n",
    "scores = cross_val_score(estimator=voting_clf,\n",
    "    X=X_train,\n",
    "    y=y_train,\n",
    "    cv=10,\n",
    "    scoring='roc_auc')\n",
    "print(f'ROC AUC: {scores.mean():.2f}'\n",
    "      f'(+/- {scores.std():.2f}) [Majority voting]')\n"
   ]
  },
  {
   "cell_type": "code",
   "execution_count": 49,
   "metadata": {},
   "outputs": [
    {
     "data": {
      "image/png": "[encoded data removed]",
      "text/plain": [
       "<Figure size 640x480 with 1 Axes>"
      ]
     },
     "metadata": {},
     "output_type": "display_data"
    }
   ],
   "source": [
    "import matplotlib.pyplot as plt\n",
    "from sklearn.metrics import roc_curve\n",
    "from sklearn.metrics import auc\n",
    "colors = ['black', 'orange', 'blue', 'green']\n",
    "linestyles = [':', '--', '-.', '-']\n",
    "for clf, label, clr, ls \\\n",
    "    in zip(all_clf, clf_labels, colors, linestyles):\n",
    "    # assuming the label of the positive class is 1\n",
    "    y_pred = clf.fit(X_train,\n",
    "    y_train).predict_proba(X_test)[:, 1]\n",
    "    fpr, tpr, thresholds = roc_curve(y_true=y_test,\n",
    "    y_score=y_pred)\n",
    "    roc_auc = auc(x=fpr, y=tpr)\n",
    "    plt.plot(fpr, tpr,\n",
    "    color=clr,\n",
    "    linestyle=ls,\n",
    "    label=f'{label} (auc = {roc_auc:.2f})')\n",
    "plt.legend(loc='lower right')\n",
    "plt.plot([0, 1], [0, 1],\n",
    "    linestyle='--',\n",
    "    color='gray',\n",
    "    linewidth=2)\n",
    "plt.xlim([-0.1, 1.1])\n",
    "plt.ylim([-0.1, 1.1])\n",
    "plt.grid(alpha=0.5)\n",
    "plt.xlabel('False positive rate (FPR)')\n",
    "plt.ylabel('True positive rate (TPR)')\n",
    "plt.show()"
   ]
  },
  {
   "cell_type": "code",
   "execution_count": 50,
   "metadata": {},
   "outputs": [
    {
     "data": {
      "text/plain": [
       "4"
      ]
     },
     "execution_count": 50,
     "metadata": {},
     "output_type": "execute_result"
    }
   ],
   "source": [
    "len(clf_labels)"
   ]
  },
  {
   "cell_type": "code",
   "execution_count": 51,
   "metadata": {},
   "outputs": [],
   "source": [
    "sc = StandardScaler()\n",
    "X_train_std = sc.fit_transform(X_train)\n",
    "from itertools import product\n",
    "x_min = X_train_std[:, 0].min() - 1\n",
    "x_max = X_train_std[:, 0].max() + 1\n",
    "y_min = X_train_std[:, 1].min() - 1\n",
    "\n",
    "y_max = X_train_std[:, 1].max() + 1"
   ]
  },
  {
   "cell_type": "code",
   "execution_count": 52,
   "metadata": {},
   "outputs": [
    {
     "data": {
      "image/png": "[encoded data removed]",
      "text/plain": [
       "<Figure size 700x500 with 4 Axes>"
      ]
     },
     "metadata": {},
     "output_type": "display_data"
    }
   ],
   "source": [
    "xx, yy = np.meshgrid(np.arange(x_min, x_max, 0.1),\n",
    "    np.arange(y_min, y_max, 0.1))\n",
    "f, axarr = plt.subplots(nrows=2, ncols=2,\n",
    "    sharex='col',\n",
    "    sharey='row',\n",
    "    figsize=(7, 5))\n",
    "for idx, clf, tt in zip(product([0, 1], [0, 1]),\n",
    "    all_clf, clf_labels):\n",
    "    clf.fit(X_train_std, y_train)\n",
    "    Z = clf.predict(np.c_[xx.ravel(), yy.ravel()])\n",
    "    Z = Z.reshape(xx.shape)\n",
    "    axarr[idx[0], idx[1]].contourf(xx, yy, Z, alpha=0.3)\n",
    "    axarr[idx[0], idx[1]].scatter(X_train_std[y_train==0, 0],\n",
    "    X_train_std[y_train==0, 1],\n",
    "    c='blue',\n",
    "    marker='^',\n",
    "    s=50)\n",
    "    axarr[idx[0], idx[1]].scatter(X_train_std[y_train==1, 0],\n",
    "    X_train_std[y_train==1, 1],\n",
    "    c='green',\n",
    "    marker='o',\n",
    "    s=50)\n",
    "    axarr[idx[0], idx[1]].set_title(tt)\n",
    "plt.text(-3.5, -5.,\n",
    "    s='Sepal width [standardized]',\n",
    "    ha='center', va='center', fontsize=12)\n",
    "plt.text(-12.5, 4.5,\n",
    "    s='Petal length [standardized]',\n",
    "    ha='center', va='center',\n",
    "    fontsize=12, rotation=90)\n",
    "plt.show()\n"
   ]
  },
  {
   "cell_type": "code",
   "execution_count": 53,
   "metadata": {},
   "outputs": [
    {
     "data": {
      "text/plain": [
       "{'estimators': [('lr',\n",
       "   Pipeline(steps=[('sc', StandardScaler()),\n",
       "                   ('clf', LogisticRegression(C=0.001, random_state=1))])),\n",
       "  ('dt',\n",
       "   Pipeline(steps=[('sc', StandardScaler()),\n",
       "                   ('clf',\n",
       "                    DecisionTreeClassifier(criterion='entropy', max_depth=1,\n",
       "                                           random_state=1))])),\n",
       "  ('knn',\n",
       "   Pipeline(steps=[('sc', StandardScaler()),\n",
       "                   ('clf', KNeighborsClassifier(n_neighbors=1))]))],\n",
       " 'flatten_transform': True,\n",
       " 'n_jobs': None,\n",
       " 'verbose': False,\n",
       " 'voting': 'soft',\n",
       " 'weights': None,\n",
       " 'lr': Pipeline(steps=[('sc', StandardScaler()),\n",
       "                 ('clf', LogisticRegression(C=0.001, random_state=1))]),\n",
       " 'dt': Pipeline(steps=[('sc', StandardScaler()),\n",
       "                 ('clf',\n",
       "                  DecisionTreeClassifier(criterion='entropy', max_depth=1,\n",
       "                                         random_state=1))]),\n",
       " 'knn': Pipeline(steps=[('sc', StandardScaler()),\n",
       "                 ('clf', KNeighborsClassifier(n_neighbors=1))]),\n",
       " 'lr__memory': None,\n",
       " 'lr__steps': [('sc', StandardScaler()),\n",
       "  ('clf', LogisticRegression(C=0.001, random_state=1))],\n",
       " 'lr__verbose': False,\n",
       " 'lr__sc': StandardScaler(),\n",
       " 'lr__clf': LogisticRegression(C=0.001, random_state=1),\n",
       " 'lr__sc__copy': True,\n",
       " 'lr__sc__with_mean': True,\n",
       " 'lr__sc__with_std': True,\n",
       " 'lr__clf__C': 0.001,\n",
       " 'lr__clf__class_weight': None,\n",
       " 'lr__clf__dual': False,\n",
       " 'lr__clf__fit_intercept': True,\n",
       " 'lr__clf__intercept_scaling': 1,\n",
       " 'lr__clf__l1_ratio': None,\n",
       " 'lr__clf__max_iter': 100,\n",
       " 'lr__clf__multi_class': 'auto',\n",
       " 'lr__clf__n_jobs': None,\n",
       " 'lr__clf__penalty': 'l2',\n",
       " 'lr__clf__random_state': 1,\n",
       " 'lr__clf__solver': 'lbfgs',\n",
       " 'lr__clf__tol': 0.0001,\n",
       " 'lr__clf__verbose': 0,\n",
       " 'lr__clf__warm_start': False,\n",
       " 'dt__memory': None,\n",
       " 'dt__steps': [('sc', StandardScaler()),\n",
       "  ('clf',\n",
       "   DecisionTreeClassifier(criterion='entropy', max_depth=1, random_state=1))],\n",
       " 'dt__verbose': False,\n",
       " 'dt__sc': StandardScaler(),\n",
       " 'dt__clf': DecisionTreeClassifier(criterion='entropy', max_depth=1, random_state=1),\n",
       " 'dt__sc__copy': True,\n",
       " 'dt__sc__with_mean': True,\n",
       " 'dt__sc__with_std': True,\n",
       " 'dt__clf__ccp_alpha': 0.0,\n",
       " 'dt__clf__class_weight': None,\n",
       " 'dt__clf__criterion': 'entropy',\n",
       " 'dt__clf__max_depth': 1,\n",
       " 'dt__clf__max_features': None,\n",
       " 'dt__clf__max_leaf_nodes': None,\n",
       " 'dt__clf__min_impurity_decrease': 0.0,\n",
       " 'dt__clf__min_samples_leaf': 1,\n",
       " 'dt__clf__min_samples_split': 2,\n",
       " 'dt__clf__min_weight_fraction_leaf': 0.0,\n",
       " 'dt__clf__random_state': 1,\n",
       " 'dt__clf__splitter': 'best',\n",
       " 'knn__memory': None,\n",
       " 'knn__steps': [('sc', StandardScaler()),\n",
       "  ('clf', KNeighborsClassifier(n_neighbors=1))],\n",
       " 'knn__verbose': False,\n",
       " 'knn__sc': StandardScaler(),\n",
       " 'knn__clf': KNeighborsClassifier(n_neighbors=1),\n",
       " 'knn__sc__copy': True,\n",
       " 'knn__sc__with_mean': True,\n",
       " 'knn__sc__with_std': True,\n",
       " 'knn__clf__algorithm': 'auto',\n",
       " 'knn__clf__leaf_size': 30,\n",
       " 'knn__clf__metric': 'minkowski',\n",
       " 'knn__clf__metric_params': None,\n",
       " 'knn__clf__n_jobs': None,\n",
       " 'knn__clf__n_neighbors': 1,\n",
       " 'knn__clf__p': 2,\n",
       " 'knn__clf__weights': 'uniform'}"
      ]
     },
     "execution_count": 53,
     "metadata": {},
     "output_type": "execute_result"
    }
   ],
   "source": [
    "voting_clf.get_params()"
   ]
  },
  {
   "cell_type": "code",
   "execution_count": 54,
   "metadata": {},
   "outputs": [
    {
     "data": {
      "text/html": [
       "<style>#sk-container-id-2 {color: black;background-color: white;}#sk-container-id-2 pre{padding: 0;}#sk-container-id-2 div.sk-toggleable {background-color: white;}#sk-container-id-2 label.sk-toggleable__label {cursor: pointer;display: block;width: 100%;margin-bottom: 0;padding: 0.3em;box-sizing: border-box;text-align: center;}#sk-container-id-2 label.sk-toggleable__label-arrow:before {content: \"▸\";float: left;margin-right: 0.25em;color: #696969;}#sk-container-id-2 label.sk-toggleable__label-arrow:hover:before {color: black;}#sk-container-id-2 div.sk-estimator:hover label.sk-toggleable__label-arrow:before {color: black;}#sk-container-id-2 div.sk-toggleable__content {max-height: 0;max-width: 0;overflow: hidden;text-align: left;background-color: #f0f8ff;}#sk-container-id-2 div.sk-toggleable__content pre {margin: 0.2em;color: black;border-radius: 0.25em;background-color: #f0f8ff;}#sk-container-id-2 input.sk-toggleable__control:checked~div.sk-toggleable__content {max-height: 200px;max-width: 100%;overflow: auto;}#sk-container-id-2 input.sk-toggleable__control:checked~label.sk-toggleable__label-arrow:before {content: \"▾\";}#sk-container-id-2 div.sk-estimator input.sk-toggleable__control:checked~label.sk-toggleable__label {background-color: #d4ebff;}#sk-container-id-2 div.sk-label input.sk-toggleable__control:checked~label.sk-toggleable__label {background-color: #d4ebff;}#sk-container-id-2 input.sk-hidden--visually {border: 0;clip: rect(1px 1px 1px 1px);clip: rect(1px, 1px, 1px, 1px);height: 1px;margin: -1px;overflow: hidden;padding: 0;position: absolute;width: 1px;}#sk-container-id-2 div.sk-estimator {font-family: monospace;background-color: #f0f8ff;border: 1px dotted black;border-radius: 0.25em;box-sizing: border-box;margin-bottom: 0.5em;}#sk-container-id-2 div.sk-estimator:hover {background-color: #d4ebff;}#sk-container-id-2 div.sk-parallel-item::after {content: \"\";width: 100%;border-bottom: 1px solid gray;flex-grow: 1;}#sk-container-id-2 div.sk-label:hover label.sk-toggleable__label {background-color: #d4ebff;}#sk-container-id-2 div.sk-serial::before {content: \"\";position: absolute;border-left: 1px solid gray;box-sizing: border-box;top: 0;bottom: 0;left: 50%;z-index: 0;}#sk-container-id-2 div.sk-serial {display: flex;flex-direction: column;align-items: center;background-color: white;padding-right: 0.2em;padding-left: 0.2em;position: relative;}#sk-container-id-2 div.sk-item {position: relative;z-index: 1;}#sk-container-id-2 div.sk-parallel {display: flex;align-items: stretch;justify-content: center;background-color: white;position: relative;}#sk-container-id-2 div.sk-item::before, #sk-container-id-2 div.sk-parallel-item::before {content: \"\";position: absolute;border-left: 1px solid gray;box-sizing: border-box;top: 0;bottom: 0;left: 50%;z-index: -1;}#sk-container-id-2 div.sk-parallel-item {display: flex;flex-direction: column;z-index: 1;position: relative;background-color: white;}#sk-container-id-2 div.sk-parallel-item:first-child::after {align-self: flex-end;width: 50%;}#sk-container-id-2 div.sk-parallel-item:last-child::after {align-self: flex-start;width: 50%;}#sk-container-id-2 div.sk-parallel-item:only-child::after {width: 0;}#sk-container-id-2 div.sk-dashed-wrapped {border: 1px dashed gray;margin: 0 0.4em 0.5em 0.4em;box-sizing: border-box;padding-bottom: 0.4em;background-color: white;}#sk-container-id-2 div.sk-label label {font-family: monospace;font-weight: bold;display: inline-block;line-height: 1.2em;}#sk-container-id-2 div.sk-label-container {text-align: center;}#sk-container-id-2 div.sk-container {/* jupyter's `normalize.less` sets `[hidden] { display: none; }` but bootstrap.min.css set `[hidden] { display: none !important; }` so we also need the `!important` here to be able to override the default hidden behavior on the sphinx rendered scikit-learn.org. See: https://github.com/scikit-learn/scikit-learn/issues/21755 */display: inline-block !important;position: relative;}#sk-container-id-2 div.sk-text-repr-fallback {display: none;}</style><div id=\"sk-container-id-2\" class=\"sk-top-container\"><div class=\"sk-text-repr-fallback\"><pre>GridSearchCV(cv=10,\n",
       "             estimator=VotingClassifier(estimators=[(&#x27;lr&#x27;,\n",
       "                                                     Pipeline(steps=[(&#x27;sc&#x27;,\n",
       "                                                                      StandardScaler()),\n",
       "                                                                     (&#x27;clf&#x27;,\n",
       "                                                                      LogisticRegression(C=0.001,\n",
       "                                                                                         random_state=1))])),\n",
       "                                                    (&#x27;dt&#x27;,\n",
       "                                                     Pipeline(steps=[(&#x27;sc&#x27;,\n",
       "                                                                      StandardScaler()),\n",
       "                                                                     (&#x27;clf&#x27;,\n",
       "                                                                      DecisionTreeClassifier(criterion=&#x27;entropy&#x27;,\n",
       "                                                                                             max_depth=1,\n",
       "                                                                                             random_state=1))])),\n",
       "                                                    (&#x27;knn&#x27;,\n",
       "                                                     Pipeline(steps=[(&#x27;sc&#x27;,\n",
       "                                                                      StandardScaler()),\n",
       "                                                                     (&#x27;clf&#x27;,\n",
       "                                                                      KNeighborsClassifier(n_neighbors=1))]))],\n",
       "                                        voting=&#x27;soft&#x27;),\n",
       "             param_grid={&#x27;dt__clf__max_depth&#x27;: [1, 2],\n",
       "                         &#x27;lr__clf__C&#x27;: [0.001, 0.1, 100.0]},\n",
       "             scoring=&#x27;roc_auc&#x27;)</pre><b>In a Jupyter environment, please rerun this cell to show the HTML representation or trust the notebook. <br />On GitHub, the HTML representation is unable to render, please try loading this page with nbviewer.org.</b></div><div class=\"sk-container\" hidden><div class=\"sk-item sk-dashed-wrapped\"><div class=\"sk-label-container\"><div class=\"sk-label sk-toggleable\"><input class=\"sk-toggleable__control sk-hidden--visually\" id=\"sk-estimator-id-4\" type=\"checkbox\" ><label for=\"sk-estimator-id-4\" class=\"sk-toggleable__label sk-toggleable__label-arrow\">GridSearchCV</label><div class=\"sk-toggleable__content\"><pre>GridSearchCV(cv=10,\n",
       "             estimator=VotingClassifier(estimators=[(&#x27;lr&#x27;,\n",
       "                                                     Pipeline(steps=[(&#x27;sc&#x27;,\n",
       "                                                                      StandardScaler()),\n",
       "                                                                     (&#x27;clf&#x27;,\n",
       "                                                                      LogisticRegression(C=0.001,\n",
       "                                                                                         random_state=1))])),\n",
       "                                                    (&#x27;dt&#x27;,\n",
       "                                                     Pipeline(steps=[(&#x27;sc&#x27;,\n",
       "                                                                      StandardScaler()),\n",
       "                                                                     (&#x27;clf&#x27;,\n",
       "                                                                      DecisionTreeClassifier(criterion=&#x27;entropy&#x27;,\n",
       "                                                                                             max_depth=1,\n",
       "                                                                                             random_state=1))])),\n",
       "                                                    (&#x27;knn&#x27;,\n",
       "                                                     Pipeline(steps=[(&#x27;sc&#x27;,\n",
       "                                                                      StandardScaler()),\n",
       "                                                                     (&#x27;clf&#x27;,\n",
       "                                                                      KNeighborsClassifier(n_neighbors=1))]))],\n",
       "                                        voting=&#x27;soft&#x27;),\n",
       "             param_grid={&#x27;dt__clf__max_depth&#x27;: [1, 2],\n",
       "                         &#x27;lr__clf__C&#x27;: [0.001, 0.1, 100.0]},\n",
       "             scoring=&#x27;roc_auc&#x27;)</pre></div></div></div><div class=\"sk-parallel\"><div class=\"sk-parallel-item\"><div class=\"sk-item\"><div class=\"sk-label-container\"><div class=\"sk-label sk-toggleable\"><input class=\"sk-toggleable__control sk-hidden--visually\" id=\"sk-estimator-id-5\" type=\"checkbox\" ><label for=\"sk-estimator-id-5\" class=\"sk-toggleable__label sk-toggleable__label-arrow\">estimator: VotingClassifier</label><div class=\"sk-toggleable__content\"><pre>VotingClassifier(estimators=[(&#x27;lr&#x27;,\n",
       "                              Pipeline(steps=[(&#x27;sc&#x27;, StandardScaler()),\n",
       "                                              (&#x27;clf&#x27;,\n",
       "                                               LogisticRegression(C=0.001,\n",
       "                                                                  random_state=1))])),\n",
       "                             (&#x27;dt&#x27;,\n",
       "                              Pipeline(steps=[(&#x27;sc&#x27;, StandardScaler()),\n",
       "                                              (&#x27;clf&#x27;,\n",
       "                                               DecisionTreeClassifier(criterion=&#x27;entropy&#x27;,\n",
       "                                                                      max_depth=1,\n",
       "                                                                      random_state=1))])),\n",
       "                             (&#x27;knn&#x27;,\n",
       "                              Pipeline(steps=[(&#x27;sc&#x27;, StandardScaler()),\n",
       "                                              (&#x27;clf&#x27;,\n",
       "                                               KNeighborsClassifier(n_neighbors=1))]))],\n",
       "                 voting=&#x27;soft&#x27;)</pre></div></div></div><div class=\"sk-serial\"><div class=\"sk-item sk-dashed-wrapped\"><div class=\"sk-parallel\"><div class=\"sk-parallel-item\"><div class=\"sk-item\"><div class=\"sk-label-container\"><div class=\"sk-label sk-toggleable\"><label>lr</label></div></div><div class=\"sk-serial\"><div class=\"sk-item\"><div class=\"sk-serial\"><div class=\"sk-item\"><div class=\"sk-estimator sk-toggleable\"><input class=\"sk-toggleable__control sk-hidden--visually\" id=\"sk-estimator-id-6\" type=\"checkbox\" ><label for=\"sk-estimator-id-6\" class=\"sk-toggleable__label sk-toggleable__label-arrow\">StandardScaler</label><div class=\"sk-toggleable__content\"><pre>StandardScaler()</pre></div></div></div><div class=\"sk-item\"><div class=\"sk-estimator sk-toggleable\"><input class=\"sk-toggleable__control sk-hidden--visually\" id=\"sk-estimator-id-7\" type=\"checkbox\" ><label for=\"sk-estimator-id-7\" class=\"sk-toggleable__label sk-toggleable__label-arrow\">LogisticRegression</label><div class=\"sk-toggleable__content\"><pre>LogisticRegression(C=0.001, random_state=1)</pre></div></div></div></div></div></div></div></div><div class=\"sk-parallel-item\"><div class=\"sk-item\"><div class=\"sk-label-container\"><div class=\"sk-label sk-toggleable\"><label>dt</label></div></div><div class=\"sk-serial\"><div class=\"sk-item\"><div class=\"sk-serial\"><div class=\"sk-item\"><div class=\"sk-estimator sk-toggleable\"><input class=\"sk-toggleable__control sk-hidden--visually\" id=\"sk-estimator-id-8\" type=\"checkbox\" ><label for=\"sk-estimator-id-8\" class=\"sk-toggleable__label sk-toggleable__label-arrow\">StandardScaler</label><div class=\"sk-toggleable__content\"><pre>StandardScaler()</pre></div></div></div><div class=\"sk-item\"><div class=\"sk-estimator sk-toggleable\"><input class=\"sk-toggleable__control sk-hidden--visually\" id=\"sk-estimator-id-9\" type=\"checkbox\" ><label for=\"sk-estimator-id-9\" class=\"sk-toggleable__label sk-toggleable__label-arrow\">DecisionTreeClassifier</label><div class=\"sk-toggleable__content\"><pre>DecisionTreeClassifier(criterion=&#x27;entropy&#x27;, max_depth=1, random_state=1)</pre></div></div></div></div></div></div></div></div><div class=\"sk-parallel-item\"><div class=\"sk-item\"><div class=\"sk-label-container\"><div class=\"sk-label sk-toggleable\"><label>knn</label></div></div><div class=\"sk-serial\"><div class=\"sk-item\"><div class=\"sk-serial\"><div class=\"sk-item\"><div class=\"sk-estimator sk-toggleable\"><input class=\"sk-toggleable__control sk-hidden--visually\" id=\"sk-estimator-id-10\" type=\"checkbox\" ><label for=\"sk-estimator-id-10\" class=\"sk-toggleable__label sk-toggleable__label-arrow\">StandardScaler</label><div class=\"sk-toggleable__content\"><pre>StandardScaler()</pre></div></div></div><div class=\"sk-item\"><div class=\"sk-estimator sk-toggleable\"><input class=\"sk-toggleable__control sk-hidden--visually\" id=\"sk-estimator-id-11\" type=\"checkbox\" ><label for=\"sk-estimator-id-11\" class=\"sk-toggleable__label sk-toggleable__label-arrow\">KNeighborsClassifier</label><div class=\"sk-toggleable__content\"><pre>KNeighborsClassifier(n_neighbors=1)</pre></div></div></div></div></div></div></div></div></div></div></div></div></div></div></div></div></div>"
      ],
      "text/plain": [
       "GridSearchCV(cv=10,\n",
       "             estimator=VotingClassifier(estimators=[('lr',\n",
       "                                                     Pipeline(steps=[('sc',\n",
       "                                                                      StandardScaler()),\n",
       "                                                                     ('clf',\n",
       "                                                                      LogisticRegression(C=0.001,\n",
       "                                                                                         random_state=1))])),\n",
       "                                                    ('dt',\n",
       "                                                     Pipeline(steps=[('sc',\n",
       "                                                                      StandardScaler()),\n",
       "                                                                     ('clf',\n",
       "                                                                      DecisionTreeClassifier(criterion='entropy',\n",
       "                                                                                             max_depth=1,\n",
       "                                                                                             random_state=1))])),\n",
       "                                                    ('knn',\n",
       "                                                     Pipeline(steps=[('sc',\n",
       "                                                                      StandardScaler()),\n",
       "                                                                     ('clf',\n",
       "                                                                      KNeighborsClassifier(n_neighbors=1))]))],\n",
       "                                        voting='soft'),\n",
       "             param_grid={'dt__clf__max_depth': [1, 2],\n",
       "                         'lr__clf__C': [0.001, 0.1, 100.0]},\n",
       "             scoring='roc_auc')"
      ]
     },
     "execution_count": 54,
     "metadata": {},
     "output_type": "execute_result"
    }
   ],
   "source": [
    "from sklearn.model_selection import GridSearchCV\n",
    "params = {'dt__clf__max_depth': [1, 2],\n",
    "    'lr__clf__C': [0.001, 0.1, 100.0]}\n",
    "grid = GridSearchCV(estimator=voting_clf,\n",
    "    param_grid=params,\n",
    "    cv=10,\n",
    "    scoring='roc_auc')\n",
    "grid.fit(X_train, y_train)"
   ]
  },
  {
   "cell_type": "code",
   "execution_count": 55,
   "metadata": {},
   "outputs": [
    {
     "name": "stdout",
     "output_type": "stream",
     "text": [
      "0.983 +/- 0.05 {'dt__clf__max_depth': 1, 'lr__clf__C': 0.001}\n",
      "0.983 +/- 0.05 {'dt__clf__max_depth': 1, 'lr__clf__C': 0.1}\n",
      "0.967 +/- 0.10 {'dt__clf__max_depth': 1, 'lr__clf__C': 100.0}\n",
      "0.983 +/- 0.05 {'dt__clf__max_depth': 2, 'lr__clf__C': 0.001}\n",
      "0.983 +/- 0.05 {'dt__clf__max_depth': 2, 'lr__clf__C': 0.1}\n",
      "0.967 +/- 0.10 {'dt__clf__max_depth': 2, 'lr__clf__C': 100.0}\n",
      "Best parameters: {'dt__clf__max_depth': 1, 'lr__clf__C': 0.001}\n",
      "ROC AUC : 0.98\n"
     ]
    }
   ],
   "source": [
    "for r, _ in enumerate(grid.cv_results_['mean_test_score']):\n",
    "    mean_score = grid.cv_results_['mean_test_score'][r]\n",
    "    std_dev = grid.cv_results_['std_test_score'][r]\n",
    "    params = grid.cv_results_['params'][r]\n",
    "    print(f'{mean_score:.3f} +/- {std_dev:.2f} {params}')\n",
    "\n",
    "print(f'Best parameters: {grid.best_params_}')\n",
    "print(f'ROC AUC : {grid.best_score_:.2f}')"
   ]
  },
  {
   "attachments": {},
   "cell_type": "markdown",
   "metadata": {},
   "source": [
    "Bagging"
   ]
  },
  {
   "cell_type": "code",
   "execution_count": 3,
   "metadata": {},
   "outputs": [],
   "source": [
    "import pandas as pd\n",
    "df_wine = pd.read_csv('wine.data',header=None)\n",
    "df_wine.columns = ['Class label', 'Alcohol',\n",
    "    'Malic acid', 'Ash',\n",
    "    'Alcalinity of ash',\n",
    "    'Magnesium', 'Total phenols',\n",
    "    'Flavanoids', 'Nonflavanoid phenols',\n",
    "    'Proanthocyanins',\n",
    "    'Color intensity', 'Hue',\n",
    "    'OD280/OD315 of diluted wines',\n",
    "    'Proline']\n",
    "# drop 1 class\n",
    "df_wine = df_wine[df_wine['Class label'] != 1]\n",
    "y = df_wine['Class label'].values\n",
    "X = df_wine[['Alcohol','OD280/OD315 of diluted wines']].values"
   ]
  },
  {
   "cell_type": "code",
   "execution_count": 4,
   "metadata": {},
   "outputs": [],
   "source": [
    "from sklearn.preprocessing import LabelEncoder\n",
    "from sklearn.model_selection import train_test_split\n",
    "le = LabelEncoder()\n",
    "y = le.fit_transform(y)\n",
    "X_train, X_test, y_train, y_test =\\\n",
    "    train_test_split(X, y,\n",
    "    test_size=0.2,\n",
    "    random_state=1,\n",
    "    stratify=y)"
   ]
  },
  {
   "cell_type": "code",
   "execution_count": 14,
   "metadata": {},
   "outputs": [],
   "source": [
    "from sklearn.ensemble import BaggingClassifier\n",
    "from sklearn.tree import DecisionTreeClassifier\n",
    "tree = DecisionTreeClassifier(criterion='entropy',\n",
    "    random_state=1,\n",
    "    max_depth=None)\n",
    "bag = BaggingClassifier(estimator=tree,\n",
    "    n_estimators=500,\n",
    "    max_samples=1.0,\n",
    "    max_features=1.0,\n",
    "    bootstrap=True,\n",
    "    bootstrap_features=False,\n",
    "    n_jobs=1,\n",
    "    random_state=1)\n"
   ]
  },
  {
   "attachments": {},
   "cell_type": "markdown",
   "metadata": {},
   "source": [
    "Decision tree performance"
   ]
  },
  {
   "cell_type": "code",
   "execution_count": 15,
   "metadata": {},
   "outputs": [
    {
     "name": "stdout",
     "output_type": "stream",
     "text": [
      "Decision tree train/test accuracies 1.000/0.833\n"
     ]
    }
   ],
   "source": [
    "from sklearn.metrics import accuracy_score\n",
    "tree = tree.fit(X_train, y_train)\n",
    "y_train_pred = tree.predict(X_train)\n",
    "y_test_pred = tree.predict(X_test)\n",
    "tree_train = accuracy_score(y_train, y_train_pred)\n",
    "tree_test = accuracy_score(y_test, y_test_pred)\n",
    "print(f'Decision tree train/test accuracies '\n",
    "    f'{tree_train:.3f}/{tree_test:.3f}')"
   ]
  },
  {
   "attachments": {},
   "cell_type": "markdown",
   "metadata": {},
   "source": [
    "Bagging Performance"
   ]
  },
  {
   "cell_type": "code",
   "execution_count": 16,
   "metadata": {},
   "outputs": [
    {
     "name": "stdout",
     "output_type": "stream",
     "text": [
      "Bagging train/test accuracies 1.000/0.917\n"
     ]
    }
   ],
   "source": [
    "bag = bag.fit(X_train, y_train)\n",
    "y_train_pred = bag.predict(X_train)\n",
    "y_test_pred = bag.predict(X_test)\n",
    "bag_train = accuracy_score(y_train, y_train_pred)\n",
    "bag_test = accuracy_score(y_test, y_test_pred)\n",
    "print(f'Bagging train/test accuracies '\n",
    "    f'{bag_train:.3f}/{bag_test:.3f}')"
   ]
  },
  {
   "cell_type": "code",
   "execution_count": 23,
   "metadata": {},
   "outputs": [
    {
     "data": {
      "image/png": "[encoded data removed]",
      "text/plain": [
       "<Figure size 800x300 with 2 Axes>"
      ]
     },
     "metadata": {},
     "output_type": "display_data"
    }
   ],
   "source": [
    "import numpy as np\n",
    "import matplotlib.pyplot as plt\n",
    "x_min = X_train[:, 0].min() - 1\n",
    "x_max = X_train[:, 0].max() + 1\n",
    "y_min = X_train[:, 1].min() - 1\n",
    "y_max = X_train[:, 1].max() + 1\n",
    "xx, yy = np.meshgrid(np.arange(x_min, x_max, 0.1),\n",
    "    np.arange(y_min, y_max, 0.1))\n",
    "f, axarr = plt.subplots(nrows=1, ncols=2,\n",
    "    sharex='col',\n",
    "    sharey='row',\n",
    "    figsize=(8, 3))\n",
    "for idx, clf, tt in zip([0, 1],\n",
    "    [tree, bag],\n",
    "    ['Decision tree', 'Bagging']):\n",
    "    clf.fit(X_train, y_train)\n",
    "\n",
    "    Z = clf.predict(np.c_[xx.ravel(), yy.ravel()])\n",
    "    Z = Z.reshape(xx.shape)\n",
    "    axarr[idx].contourf(xx, yy, Z, alpha=0.3)\n",
    "    axarr[idx].scatter(X_train[y_train==0, 0],\n",
    "    X_train[y_train==0, 1],\n",
    "    c='blue', marker='^')\n",
    "    axarr[idx].scatter(X_train[y_train==1, 0],\n",
    "    X_train[y_train==1, 1],\n",
    "    c='green', marker='o')\n",
    "    axarr[idx].set_title(tt)\n",
    "axarr[0].set_ylabel('Alcohol', fontsize=12)\n",
    "plt.tight_layout()\n",
    "plt.text(0, -0.2,\n",
    "    s='OD280/OD315 of diluted wines',\n",
    "    ha='center',\n",
    "    va='center',\n",
    "    fontsize=12,\n",
    "    transform=axarr[1].transAxes)\n",
    "plt.show()"
   ]
  },
  {
   "cell_type": "code",
   "execution_count": 27,
   "metadata": {},
   "outputs": [
    {
     "data": {
      "text/plain": [
       "(119, 2)"
      ]
     },
     "execution_count": 27,
     "metadata": {},
     "output_type": "execute_result"
    }
   ],
   "source": []
  },
  {
   "cell_type": "code",
   "execution_count": null,
   "metadata": {},
   "outputs": [],
   "source": []
  }
 ],
 "metadata": {
  "kernelspec": {
   "display_name": "ml_book",
   "language": "python",
   "name": "python3"
  },
  "language_info": {
   "codemirror_mode": {
    "name": "ipython",
    "version": 3
   },
   "file_extension": ".py",
   "mimetype": "text/x-python",
   "name": "python",
   "nbconvert_exporter": "python",
   "pygments_lexer": "ipython3",
   "version": "3.11.4"
  },
  "orig_nbformat": 4
 },
 "nbformat": 4,
 "nbformat_minor": 2
}
